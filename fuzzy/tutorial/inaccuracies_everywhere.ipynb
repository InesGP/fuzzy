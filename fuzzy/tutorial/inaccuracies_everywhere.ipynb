{
 "cells": [
  {
   "cell_type": "markdown",
   "metadata": {},
   "source": [
    "# Observing Imprecisions in Floating-Point Arithmetic"
   ]
  },
  {
   "cell_type": "markdown",
   "metadata": {},
   "source": [
    "- Imprecisions are present in floating point arithmetic\n",
    "- Machines store finite representations of data, and inexact values must be rounded\n",
    "- Even \"exact\" values at different magnitudes cannot necessarily be used together without the introduction of error\n",
    "- You can demonstrate this with Python3 out-of-the-box"
   ]
  },
  {
   "cell_type": "code",
   "execution_count": 1,
   "metadata": {},
   "outputs": [],
   "source": [
    "def count_to_one(N):\n",
    "    step = 1.0 / N\n",
    "    return step, step*N, sum([step for _ in range(int(N))])"
   ]
  },
  {
   "cell_type": "markdown",
   "metadata": {},
   "source": [
    "- The function above should return the number 1: we're adding N steps of size 1/N together"
   ]
  },
  {
   "cell_type": "code",
   "execution_count": 2,
   "metadata": {},
   "outputs": [
    {
     "name": "stdout",
     "output_type": "stream",
     "text": [
      "(0.001, 1.0, 1.0000000000000007)\n"
     ]
    }
   ],
   "source": [
    "N = 1e3\n",
    "print(count_to_one(N))"
   ]
  },
  {
   "cell_type": "markdown",
   "metadata": {},
   "source": [
    "- That didn't give us the number 1...\n",
    "- It's _close_, but not exact. Is it random/probabilistic?\n",
    "- Let's run it 5 more times"
   ]
  },
  {
   "cell_type": "code",
   "execution_count": 3,
   "metadata": {},
   "outputs": [
    {
     "name": "stdout",
     "output_type": "stream",
     "text": [
      "(0.001, 1.0, 1.0000000000000007)\n",
      "(0.001, 1.0, 1.0000000000000007)\n",
      "(0.001, 1.0, 1.0000000000000007)\n",
      "(0.001, 1.0, 1.0000000000000007)\n",
      "(0.001, 1.0, 1.0000000000000007)\n"
     ]
    }
   ],
   "source": [
    "N = 1e3\n",
    "for _ in range(5):\n",
    "    print(count_to_one(N))"
   ]
  },
  {
   "cell_type": "markdown",
   "metadata": {},
   "source": [
    "- So we're getting the _same_ *wrong* answer each time\n",
    "- Does the value we pick for N make a difference?"
   ]
  },
  {
   "cell_type": "code",
   "execution_count": 4,
   "metadata": {},
   "outputs": [
    {
     "name": "stdout",
     "output_type": "stream",
     "text": [
      "N = 1e+03\n",
      "  (0.001, 1.0, 1.0000000000000007)\n",
      "  (0.001, 1.0, 1.0000000000000007)\n",
      "  (0.001, 1.0, 1.0000000000000007)\n",
      "  (0.001, 1.0, 1.0000000000000007)\n",
      "  (0.001, 1.0, 1.0000000000000007)\n",
      "N = 1e+06\n",
      "  (1e-06, 1.0, 1.000000000007918)\n",
      "  (1e-06, 1.0, 1.000000000007918)\n",
      "  (1e-06, 1.0, 1.000000000007918)\n",
      "  (1e-06, 1.0, 1.000000000007918)\n",
      "  (1e-06, 1.0, 1.000000000007918)\n"
     ]
    }
   ],
   "source": [
    "for N in [1e3, 1e6]:\n",
    "    print(\"N = {0:.0e}\".format(N))\n",
    "    for _ in range(5):\n",
    "        print(\"  {0}\".format(count_to_one(N)))"
   ]
  },
  {
   "cell_type": "markdown",
   "metadata": {},
   "source": [
    "- we see both under- and over-estimations that are consistent for each value of N we tried\n",
    "- it so happens, decimal multiples of 10 cannot be stored in finite bits (like many, many other decimal numbers)\n",
    "- the initial division in our function introduced a bit of error\n",
    "- the subsequent addition of this incorrect value compounded the difference\n",
    "- does this problem also exist for other datatypes/numpy?"
   ]
  },
  {
   "cell_type": "code",
   "execution_count": 5,
   "metadata": {},
   "outputs": [],
   "source": [
    "import numpy as np\n",
    "\n",
    "def count_to_one(N, dtype=float, sum_only=False):\n",
    "    N = dtype(N)\n",
    "    step = dtype(1.0) / N\n",
    "    if sum_only:\n",
    "        return np.sum([step for _ in range(int(N))])\n",
    "    return step, step*N, np.sum([step for _ in range(int(N))])"
   ]
  },
  {
   "cell_type": "code",
   "execution_count": 6,
   "metadata": {},
   "outputs": [
    {
     "name": "stdout",
     "output_type": "stream",
     "text": [
      "N = 1e+01 (10.0)\n",
      "  1.0 (int => float64)\n",
      "  1.0 (int32 => float64)\n",
      "  1.0 (int64 => float64)\n",
      "  1.0 (float => float64)\n",
      "  1.0 (float32 => float32)\n",
      "  1.0 (float64 => float64)\n",
      "N = 1e+02 (100.0)\n",
      "  0.9999999999999999 (int => float64)\n",
      "  0.9999999999999999 (int32 => float64)\n",
      "  0.9999999999999999 (int64 => float64)\n",
      "  0.9999999999999999 (float => float64)\n",
      "  0.9999998211860657 (float32 => float32)\n",
      "  0.9999999999999999 (float64 => float64)\n",
      "N = 1e+03 (1000.0)\n",
      "  1.0000000000000004 (int => float64)\n",
      "  1.0000000000000004 (int32 => float64)\n",
      "  1.0000000000000004 (int64 => float64)\n",
      "  1.0000000000000004 (float => float64)\n",
      "  1.0000001192092896 (float32 => float32)\n",
      "  1.0000000000000004 (float64 => float64)\n",
      "N = 1e+06 (1000000.0)\n",
      "  0.9999999999999981 (int => float64)\n",
      "  0.9999999999999981 (int32 => float64)\n",
      "  0.9999999999999981 (int64 => float64)\n",
      "  0.9999999999999981 (float => float64)\n",
      "  1.000000238418579 (float32 => float32)\n",
      "  0.9999999999999981 (float64 => float64)\n"
     ]
    }
   ],
   "source": [
    "for N in [1e1, 1e2, 1e3, 1e6]:\n",
    "    print(\"N = {0:.0e} ({0})\".format(N))\n",
    "    for dt in [int, np.int32, np.int64, float, np.float32, np.float64]:\n",
    "        estimate_of_one = count_to_one(N, dt)\n",
    "        print(\"  {0} ({1} => {2})\".format(estimate_of_one[2],\n",
    "                                          dt.__name__,\n",
    "                                          type(estimate_of_one[2]).__name__))"
   ]
  },
  {
   "cell_type": "markdown",
   "metadata": {},
   "source": [
    "- since it is deterministic, this is obvious, but if we average over many executions we'll *still* get the wrong answer!"
   ]
  },
  {
   "cell_type": "code",
   "execution_count": 7,
   "metadata": {},
   "outputs": [],
   "source": [
    "def iter_and_avg(cmd, args=[], kwargs={}, niters=100, verbose=False):\n",
    "    results = np.array([])\n",
    "    for _ in range(niters):\n",
    "        results = np.append(results, cmd(*args, **kwargs))\n",
    "        if verbose:\n",
    "            print(results[-1])\n",
    "    return np.mean(results), np.std(results)"
   ]
  },
  {
   "cell_type": "code",
   "execution_count": 8,
   "metadata": {},
   "outputs": [
    {
     "data": {
      "text/plain": [
       "(1.0000000000000004, 0.0)"
      ]
     },
     "execution_count": 8,
     "metadata": {},
     "output_type": "execute_result"
    }
   ],
   "source": [
    "iter_and_avg(count_to_one, args=[1e3], kwargs={\"sum_only\": True}, niters=30)"
   ]
  },
  {
   "cell_type": "markdown",
   "metadata": {},
   "source": [
    "- just for sanity, let's try a few more iterations..."
   ]
  },
  {
   "cell_type": "code",
   "execution_count": 9,
   "metadata": {},
   "outputs": [
    {
     "data": {
      "text/plain": [
       "(1.0000000000000002, 2.220446049250313e-16)"
      ]
     },
     "execution_count": 9,
     "metadata": {},
     "output_type": "execute_result"
    }
   ],
   "source": [
    "iter_and_avg(count_to_one, args=[1e3], kwargs={\"sum_only\": True}, niters=50)"
   ]
  },
  {
   "cell_type": "markdown",
   "metadata": {},
   "source": [
    "- What?! But it's deterministic... let's print the results..."
   ]
  },
  {
   "cell_type": "code",
   "execution_count": 10,
   "metadata": {
    "scrolled": false
   },
   "outputs": [
    {
     "name": "stdout",
     "output_type": "stream",
     "text": [
      "1.0000000000000004\n",
      "1.0000000000000004\n",
      "1.0000000000000004\n",
      "1.0000000000000004\n",
      "1.0000000000000004\n",
      "1.0000000000000004\n",
      "1.0000000000000004\n",
      "1.0000000000000004\n",
      "1.0000000000000004\n",
      "1.0000000000000004\n",
      "1.0000000000000004\n",
      "1.0000000000000004\n",
      "1.0000000000000004\n",
      "1.0000000000000004\n",
      "1.0000000000000004\n",
      "1.0000000000000004\n",
      "1.0000000000000004\n",
      "1.0000000000000004\n",
      "1.0000000000000004\n",
      "1.0000000000000004\n",
      "1.0000000000000004\n",
      "1.0000000000000004\n",
      "1.0000000000000004\n",
      "1.0000000000000004\n",
      "1.0000000000000004\n",
      "1.0000000000000004\n",
      "1.0000000000000004\n",
      "1.0000000000000004\n",
      "1.0000000000000004\n",
      "1.0000000000000004\n",
      "1.0000000000000004\n",
      "1.0000000000000004\n",
      "1.0000000000000004\n",
      "1.0000000000000004\n",
      "1.0000000000000004\n",
      "1.0000000000000004\n",
      "1.0000000000000004\n",
      "1.0000000000000004\n",
      "1.0000000000000004\n",
      "1.0000000000000004\n",
      "1.0000000000000004\n",
      "1.0000000000000004\n",
      "1.0000000000000004\n",
      "1.0000000000000004\n",
      "1.0000000000000004\n",
      "1.0000000000000004\n",
      "1.0000000000000004\n",
      "1.0000000000000004\n",
      "1.0000000000000004\n",
      "1.0000000000000004\n",
      "1.0000000000000004\n",
      "1.0000000000000004\n",
      "1.0000000000000004\n",
      "1.0000000000000004\n",
      "1.0000000000000004\n",
      "1.0000000000000004\n",
      "1.0000000000000004\n",
      "1.0000000000000004\n",
      "1.0000000000000004\n",
      "1.0000000000000004\n",
      "1.0000000000000004\n",
      "1.0000000000000004\n",
      "1.0000000000000004\n",
      "1.0000000000000004\n",
      "1.0000000000000004\n",
      "1.0000000000000004\n",
      "1.0000000000000004\n",
      "1.0000000000000004\n",
      "1.0000000000000004\n",
      "1.0000000000000004\n",
      "1.0000000000000004\n",
      "1.0000000000000004\n",
      "1.0000000000000004\n",
      "1.0000000000000004\n",
      "1.0000000000000004\n",
      "1.0000000000000004\n",
      "1.0000000000000004\n",
      "1.0000000000000004\n",
      "1.0000000000000004\n",
      "1.0000000000000004\n",
      "1.0000000000000004\n",
      "1.0000000000000004\n",
      "1.0000000000000004\n",
      "1.0000000000000004\n",
      "1.0000000000000004\n",
      "1.0000000000000004\n",
      "1.0000000000000004\n",
      "1.0000000000000004\n",
      "1.0000000000000004\n",
      "1.0000000000000004\n",
      "1.0000000000000004\n",
      "1.0000000000000004\n",
      "1.0000000000000004\n",
      "1.0000000000000004\n",
      "1.0000000000000004\n",
      "1.0000000000000004\n",
      "1.0000000000000004\n",
      "1.0000000000000004\n",
      "1.0000000000000004\n",
      "1.0000000000000004\n"
     ]
    },
    {
     "data": {
      "text/plain": [
       "(1.0000000000000002, 2.220446049250313e-16)"
      ]
     },
     "execution_count": 10,
     "metadata": {},
     "output_type": "execute_result"
    }
   ],
   "source": [
    "iter_and_avg(count_to_one, args=[10000], kwargs={\"sum_only\": True}, niters=100, verbose=True)"
   ]
  },
  {
   "cell_type": "markdown",
   "metadata": {},
   "source": [
    "- We see the same value throughout...\n",
    "- Even our mean and standard deviation of these values is breaking!\n",
    "- Ok, if we're always going to be wrong, maybe we should embrace being wrong in a structured way"
   ]
  },
  {
   "cell_type": "markdown",
   "metadata": {},
   "source": [
    "### Monte Carlo Arithmetic\n",
    "\n",
    "\n",
    "... in the next notebook"
   ]
  }
 ],
 "metadata": {
  "kernelspec": {
   "display_name": "Python 3",
   "language": "python",
   "name": "python3"
  },
  "language_info": {
   "codemirror_mode": {
    "name": "ipython",
    "version": 3
   },
   "file_extension": ".py",
   "mimetype": "text/x-python",
   "name": "python",
   "nbconvert_exporter": "python",
   "pygments_lexer": "ipython3",
   "version": "3.7.3"
  }
 },
 "nbformat": 4,
 "nbformat_minor": 2
}
